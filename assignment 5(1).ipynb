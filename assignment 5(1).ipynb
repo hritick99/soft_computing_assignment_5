{
 "cells": [
  {
   "cell_type": "code",
   "execution_count": 1,
   "id": "1a80bd51",
   "metadata": {},
   "outputs": [],
   "source": [
    "import pandas as pd\n",
    "import numpy as np\n",
    "import matplotlib.pyplot as plt\n",
    "from random import randrange\n",
    "%matplotlib inline\n",
    "from sklearn import preprocessing\n",
    "from array import *\n",
    "from sklearn.datasets import load_iris"
   ]
  },
  {
   "cell_type": "code",
   "execution_count": 2,
   "id": "bdc9eac8",
   "metadata": {},
   "outputs": [
    {
     "data": {
      "text/plain": [
       "Int64Index([0, 1, 2, 3], dtype='int64')"
      ]
     },
     "execution_count": 2,
     "metadata": {},
     "output_type": "execute_result"
    }
   ],
   "source": [
    "data = pd.read_csv(\"D:\\college\\sem5\\Soft computing\\iris.csv\", header=None)\n",
    "decision_attribute =  data[4]\n",
    "data.drop(data.columns[4], inplace = True, axis = 1)\n",
    "feature=data.columns\n",
    "feature"
   ]
  },
  {
   "cell_type": "code",
   "execution_count": 3,
   "id": "3c64c713",
   "metadata": {},
   "outputs": [
    {
     "data": {
      "text/html": [
       "<div>\n",
       "<style scoped>\n",
       "    .dataframe tbody tr th:only-of-type {\n",
       "        vertical-align: middle;\n",
       "    }\n",
       "\n",
       "    .dataframe tbody tr th {\n",
       "        vertical-align: top;\n",
       "    }\n",
       "\n",
       "    .dataframe thead th {\n",
       "        text-align: right;\n",
       "    }\n",
       "</style>\n",
       "<table border=\"1\" class=\"dataframe\">\n",
       "  <thead>\n",
       "    <tr style=\"text-align: right;\">\n",
       "      <th></th>\n",
       "      <th>0</th>\n",
       "      <th>1</th>\n",
       "      <th>2</th>\n",
       "      <th>3</th>\n",
       "    </tr>\n",
       "  </thead>\n",
       "  <tbody>\n",
       "    <tr>\n",
       "      <th>0</th>\n",
       "      <td>5.1</td>\n",
       "      <td>3.5</td>\n",
       "      <td>1.4</td>\n",
       "      <td>0.2</td>\n",
       "    </tr>\n",
       "    <tr>\n",
       "      <th>1</th>\n",
       "      <td>4.9</td>\n",
       "      <td>3.0</td>\n",
       "      <td>1.4</td>\n",
       "      <td>0.2</td>\n",
       "    </tr>\n",
       "    <tr>\n",
       "      <th>2</th>\n",
       "      <td>4.7</td>\n",
       "      <td>3.2</td>\n",
       "      <td>1.3</td>\n",
       "      <td>0.2</td>\n",
       "    </tr>\n",
       "    <tr>\n",
       "      <th>3</th>\n",
       "      <td>4.6</td>\n",
       "      <td>3.1</td>\n",
       "      <td>1.5</td>\n",
       "      <td>0.2</td>\n",
       "    </tr>\n",
       "    <tr>\n",
       "      <th>4</th>\n",
       "      <td>5.0</td>\n",
       "      <td>3.6</td>\n",
       "      <td>1.4</td>\n",
       "      <td>0.2</td>\n",
       "    </tr>\n",
       "    <tr>\n",
       "      <th>...</th>\n",
       "      <td>...</td>\n",
       "      <td>...</td>\n",
       "      <td>...</td>\n",
       "      <td>...</td>\n",
       "    </tr>\n",
       "    <tr>\n",
       "      <th>145</th>\n",
       "      <td>6.7</td>\n",
       "      <td>3.0</td>\n",
       "      <td>5.2</td>\n",
       "      <td>2.3</td>\n",
       "    </tr>\n",
       "    <tr>\n",
       "      <th>146</th>\n",
       "      <td>6.3</td>\n",
       "      <td>2.5</td>\n",
       "      <td>5.0</td>\n",
       "      <td>1.9</td>\n",
       "    </tr>\n",
       "    <tr>\n",
       "      <th>147</th>\n",
       "      <td>6.5</td>\n",
       "      <td>3.0</td>\n",
       "      <td>5.2</td>\n",
       "      <td>2.0</td>\n",
       "    </tr>\n",
       "    <tr>\n",
       "      <th>148</th>\n",
       "      <td>6.2</td>\n",
       "      <td>3.4</td>\n",
       "      <td>5.4</td>\n",
       "      <td>2.3</td>\n",
       "    </tr>\n",
       "    <tr>\n",
       "      <th>149</th>\n",
       "      <td>5.9</td>\n",
       "      <td>3.0</td>\n",
       "      <td>5.1</td>\n",
       "      <td>1.8</td>\n",
       "    </tr>\n",
       "  </tbody>\n",
       "</table>\n",
       "<p>150 rows × 4 columns</p>\n",
       "</div>"
      ],
      "text/plain": [
       "       0    1    2    3\n",
       "0    5.1  3.5  1.4  0.2\n",
       "1    4.9  3.0  1.4  0.2\n",
       "2    4.7  3.2  1.3  0.2\n",
       "3    4.6  3.1  1.5  0.2\n",
       "4    5.0  3.6  1.4  0.2\n",
       "..   ...  ...  ...  ...\n",
       "145  6.7  3.0  5.2  2.3\n",
       "146  6.3  2.5  5.0  1.9\n",
       "147  6.5  3.0  5.2  2.0\n",
       "148  6.2  3.4  5.4  2.3\n",
       "149  5.9  3.0  5.1  1.8\n",
       "\n",
       "[150 rows x 4 columns]"
      ]
     },
     "execution_count": 3,
     "metadata": {},
     "output_type": "execute_result"
    }
   ],
   "source": [
    "data"
   ]
  },
  {
   "cell_type": "code",
   "execution_count": 4,
   "id": "28ba8f6e",
   "metadata": {},
   "outputs": [],
   "source": [
    "columns = data.to_numpy() \n",
    "min_max_scaler= preprocessing.MinMaxScaler()\n",
    "columns_scaled = min_max_scaler.fit_transform(columns)\n",
    "normalized = pd.DataFrame(columns_scaled)"
   ]
  },
  {
   "cell_type": "code",
   "execution_count": 5,
   "id": "3d76da9e",
   "metadata": {},
   "outputs": [],
   "source": [
    "graph = normalized.corr()"
   ]
  },
  {
   "cell_type": "code",
   "execution_count": 6,
   "id": "26cc27a0",
   "metadata": {},
   "outputs": [
    {
     "data": {
      "text/plain": [
       "(4, 4)"
      ]
     },
     "execution_count": 6,
     "metadata": {},
     "output_type": "execute_result"
    }
   ],
   "source": [
    "graph.shape"
   ]
  },
  {
   "cell_type": "code",
   "execution_count": 7,
   "id": "a974a1bd",
   "metadata": {},
   "outputs": [
    {
     "data": {
      "text/html": [
       "<div>\n",
       "<style scoped>\n",
       "    .dataframe tbody tr th:only-of-type {\n",
       "        vertical-align: middle;\n",
       "    }\n",
       "\n",
       "    .dataframe tbody tr th {\n",
       "        vertical-align: top;\n",
       "    }\n",
       "\n",
       "    .dataframe thead th {\n",
       "        text-align: right;\n",
       "    }\n",
       "</style>\n",
       "<table border=\"1\" class=\"dataframe\">\n",
       "  <thead>\n",
       "    <tr style=\"text-align: right;\">\n",
       "      <th></th>\n",
       "      <th>0</th>\n",
       "      <th>1</th>\n",
       "      <th>2</th>\n",
       "      <th>3</th>\n",
       "    </tr>\n",
       "  </thead>\n",
       "  <tbody>\n",
       "    <tr>\n",
       "      <th>0</th>\n",
       "      <td>1.000000</td>\n",
       "      <td>-0.109369</td>\n",
       "      <td>0.871754</td>\n",
       "      <td>0.817954</td>\n",
       "    </tr>\n",
       "    <tr>\n",
       "      <th>1</th>\n",
       "      <td>-0.109369</td>\n",
       "      <td>1.000000</td>\n",
       "      <td>-0.420516</td>\n",
       "      <td>-0.356544</td>\n",
       "    </tr>\n",
       "    <tr>\n",
       "      <th>2</th>\n",
       "      <td>0.871754</td>\n",
       "      <td>-0.420516</td>\n",
       "      <td>1.000000</td>\n",
       "      <td>0.962757</td>\n",
       "    </tr>\n",
       "    <tr>\n",
       "      <th>3</th>\n",
       "      <td>0.817954</td>\n",
       "      <td>-0.356544</td>\n",
       "      <td>0.962757</td>\n",
       "      <td>1.000000</td>\n",
       "    </tr>\n",
       "  </tbody>\n",
       "</table>\n",
       "</div>"
      ],
      "text/plain": [
       "          0         1         2         3\n",
       "0  1.000000 -0.109369  0.871754  0.817954\n",
       "1 -0.109369  1.000000 -0.420516 -0.356544\n",
       "2  0.871754 -0.420516  1.000000  0.962757\n",
       "3  0.817954 -0.356544  0.962757  1.000000"
      ]
     },
     "execution_count": 7,
     "metadata": {},
     "output_type": "execute_result"
    }
   ],
   "source": [
    "graph"
   ]
  },
  {
   "cell_type": "code",
   "execution_count": 8,
   "id": "0ad200f3",
   "metadata": {},
   "outputs": [],
   "source": [
    "graph = graph.to_numpy()\n",
    "for i in range(len(graph)):\n",
    "    graph[i][i] = 0"
   ]
  },
  {
   "cell_type": "markdown",
   "id": "076150f1",
   "metadata": {},
   "source": [
    "#  predetermined threshold "
   ]
  },
  {
   "cell_type": "code",
   "execution_count": 9,
   "id": "303a0a01",
   "metadata": {},
   "outputs": [
    {
     "name": "stdout",
     "output_type": "stream",
     "text": [
      "0.2943392419598983\n"
     ]
    }
   ],
   "source": [
    "s = np.sum(graph)\n",
    "threshold = s / ((graph.shape[0] ** 2)-len(graph))\n",
    "print(threshold)"
   ]
  },
  {
   "cell_type": "markdown",
   "id": "1d809c20",
   "metadata": {},
   "source": [
    "# Remove all the edges with weights less than a predetermined threshold."
   ]
  },
  {
   "cell_type": "code",
   "execution_count": 10,
   "id": "f0f74432",
   "metadata": {},
   "outputs": [],
   "source": [
    "for i in range(len(graph)):\n",
    "    for j in range(len(graph[0])):\n",
    "        if graph[i][j] < threshold :\n",
    "            graph[i][j] = 0"
   ]
  },
  {
   "cell_type": "code",
   "execution_count": 11,
   "id": "8fc9397e",
   "metadata": {},
   "outputs": [
    {
     "data": {
      "text/plain": [
       "array([[0.        , 0.        , 0.87175416, 0.81795363],\n",
       "       [0.        , 0.        , 0.        , 0.        ],\n",
       "       [0.87175416, 0.        , 0.        , 0.9627571 ],\n",
       "       [0.81795363, 0.        , 0.9627571 , 0.        ]])"
      ]
     },
     "execution_count": 11,
     "metadata": {},
     "output_type": "execute_result"
    }
   ],
   "source": [
    "graph"
   ]
  },
  {
   "cell_type": "markdown",
   "id": "95cf5251",
   "metadata": {},
   "source": [
    "# Compute the importance of a node as the sum of weights of all edges incident\n"
   ]
  },
  {
   "cell_type": "code",
   "execution_count": 12,
   "id": "22786494",
   "metadata": {},
   "outputs": [],
   "source": [
    "def node_to_delete(matrix):\n",
    "    nodes = np.argmax(np.sum(matrix, axis = 0).reshape(matrix.shape[0], 1))\n",
    "    print(\"Deleted node : \", nodes)\n",
    "    return nodes\n",
    "\n",
    "def delete_edges_of_node(node_number, matrix):\n",
    "    for i in range(len(matrix)):\n",
    "        matrix[node_number][i] = 0\n",
    "        matrix[i][node_number] = 0\n",
    "\n",
    "    return matrix"
   ]
  },
  {
   "cell_type": "markdown",
   "id": "2844f5dd",
   "metadata": {},
   "source": [
    "# Select the most important node and remove it from the graph."
   ]
  },
  {
   "cell_type": "code",
   "execution_count": 13,
   "id": "dd1bc770",
   "metadata": {},
   "outputs": [
    {
     "name": "stdout",
     "output_type": "stream",
     "text": [
      "Deleted node :  2\n",
      "Deleted node :  0\n"
     ]
    }
   ],
   "source": [
    "arr=array('i',[])\n",
    "nodes_deleted = []\n",
    "while np.sum(graph) != 0: \n",
    "    nodes = node_to_delete(graph)\n",
    "    for i in range(1):\n",
    "        arr.append(nodes)    \n",
    "    \n",
    "    nodes_deleted.append(nodes)\n",
    "    graph = delete_edges_of_node(nodes, graph)\n",
    "    "
   ]
  },
  {
   "cell_type": "code",
   "execution_count": 14,
   "id": "61142415",
   "metadata": {},
   "outputs": [
    {
     "data": {
      "text/plain": [
       "array([[0., 0., 0., 0.],\n",
       "       [0., 0., 0., 0.],\n",
       "       [0., 0., 0., 0.],\n",
       "       [0., 0., 0., 0.]])"
      ]
     },
     "execution_count": 14,
     "metadata": {},
     "output_type": "execute_result"
    }
   ],
   "source": [
    "graph"
   ]
  },
  {
   "cell_type": "code",
   "execution_count": 15,
   "id": "12fee8a5",
   "metadata": {},
   "outputs": [
    {
     "name": "stdout",
     "output_type": "stream",
     "text": [
      "array('i', [2, 0])\n"
     ]
    }
   ],
   "source": [
    "print(arr)"
   ]
  },
  {
   "cell_type": "code",
   "execution_count": 16,
   "id": "d4497cf0",
   "metadata": {},
   "outputs": [
    {
     "data": {
      "text/html": [
       "<div>\n",
       "<style scoped>\n",
       "    .dataframe tbody tr th:only-of-type {\n",
       "        vertical-align: middle;\n",
       "    }\n",
       "\n",
       "    .dataframe tbody tr th {\n",
       "        vertical-align: top;\n",
       "    }\n",
       "\n",
       "    .dataframe thead th {\n",
       "        text-align: right;\n",
       "    }\n",
       "</style>\n",
       "<table border=\"1\" class=\"dataframe\">\n",
       "  <thead>\n",
       "    <tr style=\"text-align: right;\">\n",
       "      <th></th>\n",
       "      <th>0</th>\n",
       "      <th>2</th>\n",
       "    </tr>\n",
       "  </thead>\n",
       "  <tbody>\n",
       "    <tr>\n",
       "      <th>0</th>\n",
       "      <td>5.1</td>\n",
       "      <td>1.4</td>\n",
       "    </tr>\n",
       "    <tr>\n",
       "      <th>1</th>\n",
       "      <td>4.9</td>\n",
       "      <td>1.4</td>\n",
       "    </tr>\n",
       "    <tr>\n",
       "      <th>2</th>\n",
       "      <td>4.7</td>\n",
       "      <td>1.3</td>\n",
       "    </tr>\n",
       "    <tr>\n",
       "      <th>3</th>\n",
       "      <td>4.6</td>\n",
       "      <td>1.5</td>\n",
       "    </tr>\n",
       "    <tr>\n",
       "      <th>4</th>\n",
       "      <td>5.0</td>\n",
       "      <td>1.4</td>\n",
       "    </tr>\n",
       "    <tr>\n",
       "      <th>...</th>\n",
       "      <td>...</td>\n",
       "      <td>...</td>\n",
       "    </tr>\n",
       "    <tr>\n",
       "      <th>145</th>\n",
       "      <td>6.7</td>\n",
       "      <td>5.2</td>\n",
       "    </tr>\n",
       "    <tr>\n",
       "      <th>146</th>\n",
       "      <td>6.3</td>\n",
       "      <td>5.0</td>\n",
       "    </tr>\n",
       "    <tr>\n",
       "      <th>147</th>\n",
       "      <td>6.5</td>\n",
       "      <td>5.2</td>\n",
       "    </tr>\n",
       "    <tr>\n",
       "      <th>148</th>\n",
       "      <td>6.2</td>\n",
       "      <td>5.4</td>\n",
       "    </tr>\n",
       "    <tr>\n",
       "      <th>149</th>\n",
       "      <td>5.9</td>\n",
       "      <td>5.1</td>\n",
       "    </tr>\n",
       "  </tbody>\n",
       "</table>\n",
       "<p>150 rows × 2 columns</p>\n",
       "</div>"
      ],
      "text/plain": [
       "       0    2\n",
       "0    5.1  1.4\n",
       "1    4.9  1.4\n",
       "2    4.7  1.3\n",
       "3    4.6  1.5\n",
       "4    5.0  1.4\n",
       "..   ...  ...\n",
       "145  6.7  5.2\n",
       "146  6.3  5.0\n",
       "147  6.5  5.2\n",
       "148  6.2  5.4\n",
       "149  5.9  5.1\n",
       "\n",
       "[150 rows x 2 columns]"
      ]
     },
     "execution_count": 16,
     "metadata": {},
     "output_type": "execute_result"
    }
   ],
   "source": [
    "data.iloc[:,[0,2]]"
   ]
  },
  {
   "cell_type": "code",
   "execution_count": 17,
   "id": "87330585",
   "metadata": {},
   "outputs": [],
   "source": [
    "def intersection(lst1, lst2):\n",
    "    return list(set(lst1) & set(lst2))\n",
    "\n",
    "# A = set of attributes\n",
    "def equivalence_class_util(x, A):\n",
    "    val = []\n",
    "    for j in A:\n",
    "        val.append(x[j])\n",
    "    return val\n",
    "\n",
    "\n",
    "# A = set of attributes\n",
    "def equivalence_class(data, A):\n",
    "    eq_class = []\n",
    "    for i, x in enumerate(data.values):\n",
    "        val = equivalence_class_util(x, A)\n",
    "    \n",
    "    found_class = False\n",
    "    for c in eq_class:\n",
    "        if(val == equivalence_class_util(data.values[c[0]], A)):\n",
    "            found_class = True\n",
    "            c.append(i)\n",
    "            break\n",
    "    \n",
    "    if(not found_class):\n",
    "        eq_class.append([i])\n",
    "    return eq_class\n",
    "\n",
    "\n",
    "# P = set of attributes\n",
    "# X = set of objects\n",
    "def len_lower_approximation(data, P, X):\n",
    "    len_lower_P = 0\n",
    "    EC = equivalence_class(data, P)\n",
    "    for x in X:\n",
    "        for c in EC:\n",
    "            if((x in c) and (intersection(c, X) == c)):\n",
    "                len_lower_P += 1\n",
    "                break\n",
    "    return len_lower_P;\n",
    "\n",
    "\n",
    "# P = a subset of attributes\n",
    "# eq_class_decision = equivalence class of decision attribute\n",
    "def gamma(data, P, eq_class_Q):\n",
    "    if(not P):\n",
    "        return 0\n",
    "    denom = len(data)\n",
    "    numer = 0\n",
    "    \n",
    "    for qi in eq_class_Q:\n",
    "        numer += len_lower_approximation(data, P, qi)\n",
    "        \n",
    "    return numer / denom\n",
    "\n",
    "\n",
    "# data should not contain decision attribute column\n",
    "# features should not contain decision attribute\n",
    "def QRGA(data, features, decision_attribute):\n",
    "    reduct = []\n",
    "    T = []\n",
    "    \n",
    "    num_features = len(features)\n",
    "\n",
    "    eq_class_decision = []\n",
    "    \n",
    "    for i, x in enumerate(data.values):\n",
    "        found_class = False\n",
    "    for c in eq_class_decision:\n",
    "        if(decision_attribute[i] == decision_attribute[c[0]]):\n",
    "            found_class = True\n",
    "            c.append(i)\n",
    "            break\n",
    "    \n",
    "    if(not found_class):\n",
    "        eq_class_decision.append([i])\n",
    "        \n",
    "    is_cond = True\n",
    "    while(is_cond):\n",
    "        T = reduct.copy()\n",
    "        for x in range(num_features):\n",
    "            if(x in reduct):\n",
    "                continue\n",
    "            tmp = reduct.copy()\n",
    "            tmp.append(x)\n",
    "            if(gamma(data, tmp, eq_class_decision) > gamma(data, T, eq_class_decision)):\n",
    "                T.append(x)\n",
    "                reduct = T.copy()\n",
    "        is_cond = gamma(data, reduct, eq_class_decision) > gamma(data, features, eq_class_decision)\n",
    "    reduct.sort()\n",
    "    return reduct"
   ]
  },
  {
   "cell_type": "code",
   "execution_count": 18,
   "id": "db06429d",
   "metadata": {},
   "outputs": [],
   "source": [
    "iris = load_iris()\n",
    "df = pd.DataFrame(iris.data, columns = iris.feature_names)\n",
    "df['target'] = iris.target\n"
   ]
  },
  {
   "cell_type": "code",
   "execution_count": 19,
   "id": "4a51dabe",
   "metadata": {},
   "outputs": [],
   "source": [
    "from sklearn import preprocessing\n",
    "\n",
    "arr = df.to_numpy()\n",
    "min_max_scaler= preprocessing.MinMaxScaler()\n",
    "scaled_arr = min_max_scaler.fit_transform(arr)\n",
    "data_norm = pd.DataFrame(scaled_arr)\n",
    "data_norm.drop(data_norm.columns[0], inplace = True, axis = 1)\n",
    "wine = data_norm.to_numpy()"
   ]
  },
  {
   "cell_type": "code",
   "execution_count": 20,
   "id": "65bac456",
   "metadata": {},
   "outputs": [],
   "source": [
    "##decision = df.loc[ :,['target']]\n",
    "##decision"
   ]
  },
  {
   "cell_type": "code",
   "execution_count": 21,
   "id": "9ccdf982",
   "metadata": {},
   "outputs": [],
   "source": [
    "num_features = len(data.values[0])\n",
    "features = [i for i in range(num_features)]\n",
    "reduced_features = QRGA(data, features, decision_attribute)"
   ]
  },
  {
   "cell_type": "code",
   "execution_count": 22,
   "id": "bec8408f",
   "metadata": {},
   "outputs": [
    {
     "name": "stdout",
     "output_type": "stream",
     "text": [
      "[0]\n"
     ]
    }
   ],
   "source": [
    "print(reduced_features)"
   ]
  },
  {
   "cell_type": "code",
   "execution_count": null,
   "id": "94033bbc",
   "metadata": {},
   "outputs": [],
   "source": []
  }
 ],
 "metadata": {
  "kernelspec": {
   "display_name": "Python 3",
   "language": "python",
   "name": "python3"
  },
  "language_info": {
   "codemirror_mode": {
    "name": "ipython",
    "version": 3
   },
   "file_extension": ".py",
   "mimetype": "text/x-python",
   "name": "python",
   "nbconvert_exporter": "python",
   "pygments_lexer": "ipython3",
   "version": "3.8.8"
  }
 },
 "nbformat": 4,
 "nbformat_minor": 5
}
